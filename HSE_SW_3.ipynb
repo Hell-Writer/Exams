{
 "cells": [
  {
   "cell_type": "markdown",
   "id": "1d4ede9f",
   "metadata": {},
   "source": [
    "№1 В баскетбольной лиге NBA прошел очередной матч. У нас есть логи, в которых записано имя игрока (name), количество очков (point) и минута (minute), на которой игрок забросил мяч в корзину.\n",
    "\n",
    "Мы бы хотели знать, кто набрал больше всего очков на 12, 24, 36 и 48 минуте матча.\n",
    "\n",
    "В итоговый файлик запишите имя игрока и количество очков, которое он набрал к определенной минуте матча.\n",
    "\n",
    "Формат ввода\n",
    "Файл с названием input.json.\n",
    "\n",
    "Формат вывода\n",
    "Файл с названием output.tsv."
   ]
  },
  {
   "cell_type": "markdown",
   "id": "88df873a",
   "metadata": {},
   "source": [
    "Пример ввода:\n",
    "[\n",
    "  {\n",
    "    \"name\": \"Lebron\",\n",
    "    \"point\": 3,\n",
    "    \"minute\": 10\n",
    "  },\n",
    "  {\n",
    "    \"name\": \"Curry\",\n",
    "    \"point\": 3,\n",
    "    \"minute\": 6\n",
    "  },\n",
    "  {\n",
    "    \"name\": \"Carmelo\",\n",
    "    \"point\": 1,\n",
    "    \"minute\": 3\n",
    "  },\n",
    "  {\n",
    "    \"name\": \"Lebron\",\n",
    "    \"point\": 2,\n",
    "    \"minute\": 15\n",
    "  },\n",
    "  {\n",
    "    \"name\": \"Curry\",\n",
    "    \"point\": 3,\n",
    "    \"minute\": 34\n",
    "  },\n",
    "  {\n",
    "    \"name\": \"Curry\",\n",
    "    \"point\": 3,\n",
    "    \"minute\": 36\n",
    "  }\n",
    "]\n",
    "\n",
    "Пример вывода:\n",
    "Curry\t3\n",
    "Lebron\t5\n",
    "Curry\t9\n",
    "Curry\t9"
   ]
  },
  {
   "cell_type": "code",
   "execution_count": null,
   "id": "3572d73c",
   "metadata": {},
   "outputs": [],
   "source": [
    "import json\n",
    "p=[]\n",
    "with open('input.json') as f:\n",
    "    l=json.load(f)\n",
    "def points(List,minutes):\n",
    "    players={}\n",
    "    final=[]\n",
    "    for item in List:\n",
    "        players.setdefault(item['name'],0)\n",
    "        if item['minute']<=minutes:\n",
    "            players[item['name']]+=item['point']\n",
    "    players=list(players.items())\n",
    "    m=max([jtem[1] for jtem in players])\n",
    "    for item in players:\n",
    "        if item[1]==m:\n",
    "            final.append(item)\n",
    "    final.sort()\n",
    "    return(final[0][0]+'\\t'+str(final[0][1]))\n",
    "a=points(l,12)\n",
    "with open('output.tsv', 'w') as f:\n",
    "    f.write(a+'\\n')\n",
    "a=points(l,24)\n",
    "with open('output.tsv', 'a') as f:\n",
    "    f.write(a+'\\n')\n",
    "a=points(l,36)\n",
    "with open('output.tsv', 'a') as f:\n",
    "    f.write(a+'\\n')\n",
    "a=points(l,48)\n",
    "with open('output.tsv', 'a') as f:\n",
    "    f.write(a)"
   ]
  },
  {
   "cell_type": "markdown",
   "id": "9fcbd826",
   "metadata": {},
   "source": [
    "№2 В вашу команду пришел новый человек. Он сразу заявил, что работать с файлами расширения .json он не умеет, только с файлами расширения .tsv. Вы решили помочь ему. Напишите код, который может перевести формат .json в формат .tsv."
   ]
  },
  {
   "cell_type": "code",
   "execution_count": null,
   "id": "f520494c",
   "metadata": {},
   "outputs": [],
   "source": [
    "import json\n",
    "values={}\n",
    "with open('input.json') as f:\n",
    "    l=json.load(f)\n",
    "for item in l:\n",
    "    for jtem in item:\n",
    "        values.setdefault(jtem,[])\n",
    "for item in l:\n",
    "    for ktem in values:\n",
    "        if ktem in item:\n",
    "            values[ktem].append(item[ktem])\n",
    "        else:\n",
    "            values[ktem].append(None)\n",
    "\n",
    "values=dict(sorted(values.items()))\n",
    "\n",
    "with open('output.tsv', 'w') as f:\n",
    "    f.write('\\t'.join(list(values.keys()))+'\\n')\n",
    "    for i in range(len(values[list(values.keys())[0]])):\n",
    "        f.write('\\t'.join([str(values[item][i]) for item in values])+'\\n')"
   ]
  },
  {
   "cell_type": "markdown",
   "id": "853f3422",
   "metadata": {},
   "source": [
    "№3 Алсу часто работает с текстовыми файлами. Они очень большие. Когда она хочет посмотреть файл в текстовом редакторе, ее компьютер начинает лагать. Поэтому она хочет написать код, который запишет ей последние 5 строк в новый файл. Помогите Алсу.\n",
    "Файлы очень большие, следовательно считать их полностью в память не получится, иначе вы получите Memory limit exceeded (ML). Подумайте как можно получить количество строк файла не читая его целиком."
   ]
  },
  {
   "cell_type": "code",
   "execution_count": null,
   "id": "adbb4bfd",
   "metadata": {},
   "outputs": [],
   "source": [
    "l=[]\n",
    "i=0\n",
    "j=0\n",
    "with open('input.txt', encoding='utf-8') as f:\n",
    "    while True:\n",
    "        line=f.readline()\n",
    "        if line=='':\n",
    "            break\n",
    "        else:\n",
    "            i+=1\n",
    "with open('input.txt', encoding='utf-8') as f:\n",
    "    while j<i:\n",
    "        line=f.readline()\n",
    "        if j>i-6:\n",
    "            l.append(line)\n",
    "        j+=1\n",
    "with open('output.txt', 'w', encoding='utf-8') as f:\n",
    "    for k in range(len(l)):\n",
    "        f.write(l[k])"
   ]
  }
 ],
 "metadata": {
  "kernelspec": {
   "display_name": "Python 3",
   "language": "python",
   "name": "python3"
  },
  "language_info": {
   "codemirror_mode": {
    "name": "ipython",
    "version": 3
   },
   "file_extension": ".py",
   "mimetype": "text/x-python",
   "name": "python",
   "nbconvert_exporter": "python",
   "pygments_lexer": "ipython3",
   "version": "3.8.8"
  }
 },
 "nbformat": 4,
 "nbformat_minor": 5
}
